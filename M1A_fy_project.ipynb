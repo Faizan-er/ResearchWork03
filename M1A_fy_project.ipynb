{
  "cells": [
    {
      "cell_type": "markdown",
      "metadata": {
        "id": "view-in-github",
        "colab_type": "text"
      },
      "source": [
        "<a href=\"https://colab.research.google.com/github/Faizan-er/ResearchWork03/blob/main/M1A_fy_project.ipynb\" target=\"_parent\"><img src=\"https://colab.research.google.com/assets/colab-badge.svg\" alt=\"Open In Colab\"/></a>"
      ]
    },
    {
      "cell_type": "markdown",
      "metadata": {
        "id": "jajXPl1YiTTG"
      },
      "source": [
        "## **Ultrasound Image-Based Diagnosis Thyroid Nodule Using Deep Learning**"
      ]
    },
    {
      "cell_type": "code",
      "execution_count": null,
      "metadata": {
        "id": "anCd-MVVishY"
      },
      "outputs": [],
      "source": [
        "#Importing Libraries\n",
        "\n",
        "import os\n",
        "import pandas as pd\n",
        "from PIL import Image\n",
        "import numpy as np\n",
        "import matplotlib.pyplot as plt\n",
        "\n",
        "import tensorflow as tf\n",
        "import cv2\n",
        "\n",
        "\n",
        "import math\n",
        "import random\n",
        "\n",
        "\n",
        "import xml.etree.ElementTree as ET\n",
        "from natsort import natsorted\n",
        "import requests\n",
        "from zipfile import ZipFile\n",
        "from io import BytesIO\n",
        "from six.moves import xrange\n",
        "import collections\n",
        "import string"
      ]
    },
    {
      "cell_type": "markdown",
      "metadata": {
        "id": "76B4s1ANiP2V"
      },
      "source": [
        "## **Functions for Loading and preparing the data.**"
      ]
    },
    {
      "cell_type": "code",
      "execution_count": null,
      "metadata": {
        "id": "VWKcuJ_pjlqL"
      },
      "outputs": [],
      "source": [
        "#F1: Creating Df(structured) from XML and Jpeg \n",
        "\n",
        "def Create_dataframe(path):\n",
        "    dirs=natsorted(os.listdir(path))\n",
        "    xml_list=[]\n",
        "    img_list=[]\n",
        "    for i in range(len(dirs)):\n",
        "        if '.xml' in dirs[i]:\n",
        "            xml_list.append(dirs[i])\n",
        "        if not '.xml'  in dirs[i]:\n",
        "            img_list.append(dirs[i])\n",
        "    xml_list=natsorted(xml_list)\n",
        "    img_list=natsorted(img_list)\n",
        "    tirads=[]\n",
        "    for j in range(len(xml_list)):\n",
        "        tree = ET.parse(path+'/'+xml_list[j])\n",
        "        a=tree.findall(\"./tirads\")\n",
        "        if a[-1].text!=None:\n",
        "            case=[xml_list[j],a[-1].text]\n",
        "            tirads.append(case)\n",
        "    data=[]\n",
        "    for k in range(len(tirads)):\n",
        "        xml=tirads[k][0][:-4]\n",
        "        for z in range(len(img_list)):\n",
        "            if xml+'_1.jpg'==img_list[z] or xml+'_2.jpg'==img_list[z] or xml+'_3.jpg'==img_list[z]:\n",
        "                m=[img_list[z],tirads[k][1]]\n",
        "                data.append(m)\n",
        "\n",
        "    df = pd.DataFrame(data,columns =['Jpeg_Name', 'Tirads'])\n",
        "    return df"
      ]
    },
    {
      "cell_type": "code",
      "execution_count": null,
      "metadata": {
        "id": "Cv1a9IFbjtnc"
      },
      "outputs": [],
      "source": [
        "#F2: Cropp Function\n",
        "\n",
        "def croping(img,x, y, w, h):\n",
        "    if abs(w)<abs(h):\n",
        "        img2=np.zeros([h,h])\n",
        "        img2[:,h-w:h]=img[y:y+h, x:x+w]\n",
        "    if abs(h)<abs(w):  \n",
        "        img2=np.zeros([w,w])\n",
        "        img2[w-h:w,:]=img[y:y+h, x:x+w]\n",
        "    else:\n",
        "        return img\n",
        "    return img2\n"
      ]
    },
    {
      "cell_type": "code",
      "execution_count": null,
      "metadata": {
        "id": "kA6EuLhojwSs"
      },
      "outputs": [],
      "source": [
        "#F3:  Convert RGB to grayscale, If some Images are colour \n",
        "\n",
        "def convert_one_channel(img):\n",
        "    #if some images have 3 channels , although they are grayscale image\n",
        "    if len(img.shape)>2:\n",
        "        img=img[:,:,0]\n",
        "        return img\n",
        "    else:\n",
        "        return img"
      ]
    },
    {
      "cell_type": "code",
      "execution_count": null,
      "metadata": {
        "id": "YvOWt_0Fjy3t"
      },
      "outputs": [],
      "source": [
        "#F4:Remove Fill area from Image and Resizeing\n",
        "#Calling F3 and F2\n",
        "#used CV2 \n",
        "\n",
        "def crop_resize(path,resize_shape):\n",
        "    img=plt.imread(path)\n",
        "    img=convert_one_channel(np.asarray(img))        \n",
        "    kernel =( np.ones((5,5), dtype=np.float32))\n",
        "    ret,thresh = cv2.threshold(img, 0, 255, cv2.THRESH_BINARY)\n",
        "    thresh = thresh.astype(np.uint8)\n",
        "    a1,b1=thresh.shape\n",
        "    thresh=cv2.morphologyEx(thresh, cv2.MORPH_OPEN, kernel,iterations=3 )\n",
        "    thresh=cv2.erode(thresh,kernel,iterations =5)\n",
        "    contours, hierarchy = cv2.findContours(thresh.copy(), cv2.RETR_TREE, cv2.CHAIN_APPROX_SIMPLE)\n",
        "    c_area=np.zeros([len(contours)])\n",
        "    for i in range(len(contours)):\n",
        "        c_area[i]= cv2.contourArea(contours[i]) \n",
        "    cnts=contours[np.argmax(c_area)]    \n",
        "    x, y, w, h = cv2.boundingRect(cnts)\n",
        "    roi = croping(img, x, y, w, h)                 #F2\n",
        "    roi=cv2.resize(roi,(resize_shape),interpolation=cv2.INTER_LANCZOS4)\n",
        "    return roi"
      ]
    },
    {
      "cell_type": "code",
      "execution_count": null,
      "metadata": {
        "id": "O8fy6SRhj2v-"
      },
      "outputs": [],
      "source": [
        "#F5: TO Data Matrix\n",
        "#Calling F4\n",
        "\n",
        "def to_imgmatrix(resize_shape,path,df):\n",
        "    path=path+'/'  \n",
        "    images=crop_resize(path+df[\"Jpeg_Name\"][0],resize_shape)\n",
        "    for i in range (1,len(df[\"Jpeg_Name\"])):\n",
        "        img=crop_resize(path+df[\"Jpeg_Name\"][i],resize_shape)\n",
        "        images=np.concatenate((images,img))\n",
        "    images=np.reshape(images,(len(df[\"Jpeg_Name\"]),resize_shape[0],resize_shape[1],1))\n",
        "    return images"
      ]
    },
    {
      "cell_type": "code",
      "execution_count": null,
      "metadata": {
        "id": "Z7OYZxEsj6yF"
      },
      "outputs": [],
      "source": [
        "#F5: Prepare_date for train (final Touch)\n",
        "#Calling F1 and F5\n",
        "\n",
        "def prepare_data(path,resize_shape):\n",
        "    df=Create_dataframe(path)\n",
        "    data=to_imgmatrix(resize_shape,path,df) \n",
        "    return df, data"
      ]
    },
    {
      "cell_type": "markdown",
      "metadata": {
        "id": "a3nqOT1nkVqt"
      },
      "source": [
        "***Checking Functions syntax error and working***"
      ]
    },
    {
      "cell_type": "code",
      "execution_count": null,
      "metadata": {
        "colab": {
          "base_uri": "https://localhost:8080/",
          "height": 206
        },
        "id": "D3tha2lPj-Ko",
        "outputId": "ecf6ad62-03b7-45b8-c4f8-a112b7039fb0"
      },
      "outputs": [
        {
          "output_type": "execute_result",
          "data": {
            "text/plain": [
              "  Jpeg_Name Tirads\n",
              "0   2_1.jpg      2\n",
              "1   3_1.jpg     4a\n",
              "2   4_1.jpg     4a\n",
              "3   5_1.jpg      5\n",
              "4   6_1.jpg     4b"
            ],
            "text/html": [
              "\n",
              "  <div id=\"df-550a77a0-b2e7-4d61-b0df-62ec8f76e1a8\">\n",
              "    <div class=\"colab-df-container\">\n",
              "      <div>\n",
              "<style scoped>\n",
              "    .dataframe tbody tr th:only-of-type {\n",
              "        vertical-align: middle;\n",
              "    }\n",
              "\n",
              "    .dataframe tbody tr th {\n",
              "        vertical-align: top;\n",
              "    }\n",
              "\n",
              "    .dataframe thead th {\n",
              "        text-align: right;\n",
              "    }\n",
              "</style>\n",
              "<table border=\"1\" class=\"dataframe\">\n",
              "  <thead>\n",
              "    <tr style=\"text-align: right;\">\n",
              "      <th></th>\n",
              "      <th>Jpeg_Name</th>\n",
              "      <th>Tirads</th>\n",
              "    </tr>\n",
              "  </thead>\n",
              "  <tbody>\n",
              "    <tr>\n",
              "      <th>0</th>\n",
              "      <td>2_1.jpg</td>\n",
              "      <td>2</td>\n",
              "    </tr>\n",
              "    <tr>\n",
              "      <th>1</th>\n",
              "      <td>3_1.jpg</td>\n",
              "      <td>4a</td>\n",
              "    </tr>\n",
              "    <tr>\n",
              "      <th>2</th>\n",
              "      <td>4_1.jpg</td>\n",
              "      <td>4a</td>\n",
              "    </tr>\n",
              "    <tr>\n",
              "      <th>3</th>\n",
              "      <td>5_1.jpg</td>\n",
              "      <td>5</td>\n",
              "    </tr>\n",
              "    <tr>\n",
              "      <th>4</th>\n",
              "      <td>6_1.jpg</td>\n",
              "      <td>4b</td>\n",
              "    </tr>\n",
              "  </tbody>\n",
              "</table>\n",
              "</div>\n",
              "      <button class=\"colab-df-convert\" onclick=\"convertToInteractive('df-550a77a0-b2e7-4d61-b0df-62ec8f76e1a8')\"\n",
              "              title=\"Convert this dataframe to an interactive table.\"\n",
              "              style=\"display:none;\">\n",
              "        \n",
              "  <svg xmlns=\"http://www.w3.org/2000/svg\" height=\"24px\"viewBox=\"0 0 24 24\"\n",
              "       width=\"24px\">\n",
              "    <path d=\"M0 0h24v24H0V0z\" fill=\"none\"/>\n",
              "    <path d=\"M18.56 5.44l.94 2.06.94-2.06 2.06-.94-2.06-.94-.94-2.06-.94 2.06-2.06.94zm-11 1L8.5 8.5l.94-2.06 2.06-.94-2.06-.94L8.5 2.5l-.94 2.06-2.06.94zm10 10l.94 2.06.94-2.06 2.06-.94-2.06-.94-.94-2.06-.94 2.06-2.06.94z\"/><path d=\"M17.41 7.96l-1.37-1.37c-.4-.4-.92-.59-1.43-.59-.52 0-1.04.2-1.43.59L10.3 9.45l-7.72 7.72c-.78.78-.78 2.05 0 2.83L4 21.41c.39.39.9.59 1.41.59.51 0 1.02-.2 1.41-.59l7.78-7.78 2.81-2.81c.8-.78.8-2.07 0-2.86zM5.41 20L4 18.59l7.72-7.72 1.47 1.35L5.41 20z\"/>\n",
              "  </svg>\n",
              "      </button>\n",
              "      \n",
              "  <style>\n",
              "    .colab-df-container {\n",
              "      display:flex;\n",
              "      flex-wrap:wrap;\n",
              "      gap: 12px;\n",
              "    }\n",
              "\n",
              "    .colab-df-convert {\n",
              "      background-color: #E8F0FE;\n",
              "      border: none;\n",
              "      border-radius: 50%;\n",
              "      cursor: pointer;\n",
              "      display: none;\n",
              "      fill: #1967D2;\n",
              "      height: 32px;\n",
              "      padding: 0 0 0 0;\n",
              "      width: 32px;\n",
              "    }\n",
              "\n",
              "    .colab-df-convert:hover {\n",
              "      background-color: #E2EBFA;\n",
              "      box-shadow: 0px 1px 2px rgba(60, 64, 67, 0.3), 0px 1px 3px 1px rgba(60, 64, 67, 0.15);\n",
              "      fill: #174EA6;\n",
              "    }\n",
              "\n",
              "    [theme=dark] .colab-df-convert {\n",
              "      background-color: #3B4455;\n",
              "      fill: #D2E3FC;\n",
              "    }\n",
              "\n",
              "    [theme=dark] .colab-df-convert:hover {\n",
              "      background-color: #434B5C;\n",
              "      box-shadow: 0px 1px 3px 1px rgba(0, 0, 0, 0.15);\n",
              "      filter: drop-shadow(0px 1px 2px rgba(0, 0, 0, 0.3));\n",
              "      fill: #FFFFFF;\n",
              "    }\n",
              "  </style>\n",
              "\n",
              "      <script>\n",
              "        const buttonEl =\n",
              "          document.querySelector('#df-550a77a0-b2e7-4d61-b0df-62ec8f76e1a8 button.colab-df-convert');\n",
              "        buttonEl.style.display =\n",
              "          google.colab.kernel.accessAllowed ? 'block' : 'none';\n",
              "\n",
              "        async function convertToInteractive(key) {\n",
              "          const element = document.querySelector('#df-550a77a0-b2e7-4d61-b0df-62ec8f76e1a8');\n",
              "          const dataTable =\n",
              "            await google.colab.kernel.invokeFunction('convertToInteractive',\n",
              "                                                     [key], {});\n",
              "          if (!dataTable) return;\n",
              "\n",
              "          const docLinkHtml = 'Like what you see? Visit the ' +\n",
              "            '<a target=\"_blank\" href=https://colab.research.google.com/notebooks/data_table.ipynb>data table notebook</a>'\n",
              "            + ' to learn more about interactive tables.';\n",
              "          element.innerHTML = '';\n",
              "          dataTable['output_type'] = 'display_data';\n",
              "          await google.colab.output.renderOutput(dataTable, element);\n",
              "          const docLink = document.createElement('div');\n",
              "          docLink.innerHTML = docLinkHtml;\n",
              "          element.appendChild(docLink);\n",
              "        }\n",
              "      </script>\n",
              "    </div>\n",
              "  </div>\n",
              "  "
            ]
          },
          "metadata": {},
          "execution_count": 8
        }
      ],
      "source": [
        "df1= Create_dataframe('/content/drive/MyDrive/Final Year Project/TDID_DATASET_FYPROJECT')\n",
        "df1[0:5]"
      ]
    },
    {
      "cell_type": "markdown",
      "metadata": {
        "id": "mVXcnrb1k9GF"
      },
      "source": [
        "### Loading and preparing Data for Training using above defined function"
      ]
    },
    {
      "cell_type": "code",
      "execution_count": null,
      "metadata": {
        "id": "RSt47vHclMpy"
      },
      "outputs": [],
      "source": [
        "df,data = prepare_data('/content/drive/MyDrive/Final Year Project/TDID_DATASET_FYPROJECT', (256,256))"
      ]
    },
    {
      "cell_type": "code",
      "execution_count": null,
      "metadata": {
        "colab": {
          "base_uri": "https://localhost:8080/",
          "height": 143
        },
        "id": "slep6oIHlXF9",
        "outputId": "d7277cde-6ad6-4c80-b8ce-2325aa4fb054"
      },
      "outputs": [
        {
          "output_type": "execute_result",
          "data": {
            "text/plain": [
              "  Jpeg_Name Tirads\n",
              "0   2_1.jpg      2\n",
              "1   3_1.jpg     4a\n",
              "2   4_1.jpg     4a"
            ],
            "text/html": [
              "\n",
              "  <div id=\"df-0cdbde5d-c843-458f-b96d-0e2634aae3dd\">\n",
              "    <div class=\"colab-df-container\">\n",
              "      <div>\n",
              "<style scoped>\n",
              "    .dataframe tbody tr th:only-of-type {\n",
              "        vertical-align: middle;\n",
              "    }\n",
              "\n",
              "    .dataframe tbody tr th {\n",
              "        vertical-align: top;\n",
              "    }\n",
              "\n",
              "    .dataframe thead th {\n",
              "        text-align: right;\n",
              "    }\n",
              "</style>\n",
              "<table border=\"1\" class=\"dataframe\">\n",
              "  <thead>\n",
              "    <tr style=\"text-align: right;\">\n",
              "      <th></th>\n",
              "      <th>Jpeg_Name</th>\n",
              "      <th>Tirads</th>\n",
              "    </tr>\n",
              "  </thead>\n",
              "  <tbody>\n",
              "    <tr>\n",
              "      <th>0</th>\n",
              "      <td>2_1.jpg</td>\n",
              "      <td>2</td>\n",
              "    </tr>\n",
              "    <tr>\n",
              "      <th>1</th>\n",
              "      <td>3_1.jpg</td>\n",
              "      <td>4a</td>\n",
              "    </tr>\n",
              "    <tr>\n",
              "      <th>2</th>\n",
              "      <td>4_1.jpg</td>\n",
              "      <td>4a</td>\n",
              "    </tr>\n",
              "  </tbody>\n",
              "</table>\n",
              "</div>\n",
              "      <button class=\"colab-df-convert\" onclick=\"convertToInteractive('df-0cdbde5d-c843-458f-b96d-0e2634aae3dd')\"\n",
              "              title=\"Convert this dataframe to an interactive table.\"\n",
              "              style=\"display:none;\">\n",
              "        \n",
              "  <svg xmlns=\"http://www.w3.org/2000/svg\" height=\"24px\"viewBox=\"0 0 24 24\"\n",
              "       width=\"24px\">\n",
              "    <path d=\"M0 0h24v24H0V0z\" fill=\"none\"/>\n",
              "    <path d=\"M18.56 5.44l.94 2.06.94-2.06 2.06-.94-2.06-.94-.94-2.06-.94 2.06-2.06.94zm-11 1L8.5 8.5l.94-2.06 2.06-.94-2.06-.94L8.5 2.5l-.94 2.06-2.06.94zm10 10l.94 2.06.94-2.06 2.06-.94-2.06-.94-.94-2.06-.94 2.06-2.06.94z\"/><path d=\"M17.41 7.96l-1.37-1.37c-.4-.4-.92-.59-1.43-.59-.52 0-1.04.2-1.43.59L10.3 9.45l-7.72 7.72c-.78.78-.78 2.05 0 2.83L4 21.41c.39.39.9.59 1.41.59.51 0 1.02-.2 1.41-.59l7.78-7.78 2.81-2.81c.8-.78.8-2.07 0-2.86zM5.41 20L4 18.59l7.72-7.72 1.47 1.35L5.41 20z\"/>\n",
              "  </svg>\n",
              "      </button>\n",
              "      \n",
              "  <style>\n",
              "    .colab-df-container {\n",
              "      display:flex;\n",
              "      flex-wrap:wrap;\n",
              "      gap: 12px;\n",
              "    }\n",
              "\n",
              "    .colab-df-convert {\n",
              "      background-color: #E8F0FE;\n",
              "      border: none;\n",
              "      border-radius: 50%;\n",
              "      cursor: pointer;\n",
              "      display: none;\n",
              "      fill: #1967D2;\n",
              "      height: 32px;\n",
              "      padding: 0 0 0 0;\n",
              "      width: 32px;\n",
              "    }\n",
              "\n",
              "    .colab-df-convert:hover {\n",
              "      background-color: #E2EBFA;\n",
              "      box-shadow: 0px 1px 2px rgba(60, 64, 67, 0.3), 0px 1px 3px 1px rgba(60, 64, 67, 0.15);\n",
              "      fill: #174EA6;\n",
              "    }\n",
              "\n",
              "    [theme=dark] .colab-df-convert {\n",
              "      background-color: #3B4455;\n",
              "      fill: #D2E3FC;\n",
              "    }\n",
              "\n",
              "    [theme=dark] .colab-df-convert:hover {\n",
              "      background-color: #434B5C;\n",
              "      box-shadow: 0px 1px 3px 1px rgba(0, 0, 0, 0.15);\n",
              "      filter: drop-shadow(0px 1px 2px rgba(0, 0, 0, 0.3));\n",
              "      fill: #FFFFFF;\n",
              "    }\n",
              "  </style>\n",
              "\n",
              "      <script>\n",
              "        const buttonEl =\n",
              "          document.querySelector('#df-0cdbde5d-c843-458f-b96d-0e2634aae3dd button.colab-df-convert');\n",
              "        buttonEl.style.display =\n",
              "          google.colab.kernel.accessAllowed ? 'block' : 'none';\n",
              "\n",
              "        async function convertToInteractive(key) {\n",
              "          const element = document.querySelector('#df-0cdbde5d-c843-458f-b96d-0e2634aae3dd');\n",
              "          const dataTable =\n",
              "            await google.colab.kernel.invokeFunction('convertToInteractive',\n",
              "                                                     [key], {});\n",
              "          if (!dataTable) return;\n",
              "\n",
              "          const docLinkHtml = 'Like what you see? Visit the ' +\n",
              "            '<a target=\"_blank\" href=https://colab.research.google.com/notebooks/data_table.ipynb>data table notebook</a>'\n",
              "            + ' to learn more about interactive tables.';\n",
              "          element.innerHTML = '';\n",
              "          dataTable['output_type'] = 'display_data';\n",
              "          await google.colab.output.renderOutput(dataTable, element);\n",
              "          const docLink = document.createElement('div');\n",
              "          docLink.innerHTML = docLinkHtml;\n",
              "          element.appendChild(docLink);\n",
              "        }\n",
              "      </script>\n",
              "    </div>\n",
              "  </div>\n",
              "  "
            ]
          },
          "metadata": {},
          "execution_count": 10
        }
      ],
      "source": [
        "df[:3]"
      ]
    },
    {
      "cell_type": "code",
      "execution_count": null,
      "metadata": {
        "colab": {
          "base_uri": "https://localhost:8080/"
        },
        "id": "SAYv0PDvluKy",
        "outputId": "f0ac6018-8e6d-48c1-fcf1-b8325a33380b"
      },
      "outputs": [
        {
          "output_type": "execute_result",
          "data": {
            "text/plain": [
              "array([[[ 0.        ],\n",
              "        [ 0.        ],\n",
              "        [ 0.        ],\n",
              "        ...,\n",
              "        [ 0.        ],\n",
              "        [ 0.        ],\n",
              "        [ 0.        ]],\n",
              "\n",
              "       [[ 0.        ],\n",
              "        [ 0.        ],\n",
              "        [ 0.        ],\n",
              "        ...,\n",
              "        [ 0.        ],\n",
              "        [ 0.        ],\n",
              "        [ 0.        ]],\n",
              "\n",
              "       [[ 0.        ],\n",
              "        [ 0.        ],\n",
              "        [ 0.        ],\n",
              "        ...,\n",
              "        [ 0.        ],\n",
              "        [ 0.        ],\n",
              "        [ 0.        ]],\n",
              "\n",
              "       ...,\n",
              "\n",
              "       [[49.54744944],\n",
              "        [37.15056468],\n",
              "        [36.99647253],\n",
              "        ...,\n",
              "        [18.40408377],\n",
              "        [21.62313155],\n",
              "        [23.75513912]],\n",
              "\n",
              "       [[58.29387081],\n",
              "        [49.24672126],\n",
              "        [43.34024133],\n",
              "        ...,\n",
              "        [21.97024531],\n",
              "        [24.18674312],\n",
              "        [22.4355235 ]],\n",
              "\n",
              "       [[37.26666894],\n",
              "        [38.14333271],\n",
              "        [37.79830443],\n",
              "        ...,\n",
              "        [27.56584911],\n",
              "        [26.44941745],\n",
              "        [24.1395009 ]]])"
            ]
          },
          "metadata": {},
          "execution_count": 11
        }
      ],
      "source": [
        "data[0]"
      ]
    },
    {
      "cell_type": "markdown",
      "metadata": {
        "id": "j8RrzQ0rl0pB"
      },
      "source": [
        "### Creating y as categorical data to give as an input to model:"
      ]
    },
    {
      "cell_type": "code",
      "execution_count": null,
      "metadata": {
        "colab": {
          "base_uri": "https://localhost:8080/"
        },
        "id": "HEDCXEdNl2kT",
        "outputId": "8b772045-5cb7-4538-9a02-4841d82a0afc"
      },
      "outputs": [
        {
          "output_type": "execute_result",
          "data": {
            "text/plain": [
              "347"
            ]
          },
          "metadata": {},
          "execution_count": 12
        }
      ],
      "source": [
        "len(df[\"Tirads\"])"
      ]
    },
    {
      "cell_type": "code",
      "execution_count": null,
      "metadata": {
        "id": "YAiHsJXLl6td"
      },
      "outputs": [],
      "source": [
        "# We need numeric category\n",
        "#There are little categories, so i handled manually\n",
        "#only 6 categories(0 to 5):  1 (Benign) | 2 (Benign) | 4a (Malign) | 4b (Malign) | 4c (Malign) | 5 (Malign)\n",
        "\n",
        "def to_categoricalmatrix(df):\n",
        "    Y=np.zeros([len(df[\"Tirads\"])])\n",
        "    for i in range(len(df[\"Tirads\"])):\n",
        "        if df[\"Tirads\"][i]==\"2\":\n",
        "          Y[i]=0\n",
        "        if df[\"Tirads\"][i]==\"3\":\n",
        "          Y[i]=1\n",
        "        if df[\"Tirads\"][i]==\"4a\":\n",
        "          Y[i]=2\n",
        "        if df[\"Tirads\"][i]==\"4b\":\n",
        "          Y[i]=3\n",
        "        if df[\"Tirads\"][i]==\"4c\":\n",
        "          Y[i]=4\n",
        "        if df[\"Tirads\"][i]==\"5\":\n",
        "          Y[i]=5\n",
        "    return Y"
      ]
    },
    {
      "cell_type": "code",
      "execution_count": null,
      "metadata": {
        "colab": {
          "base_uri": "https://localhost:8080/"
        },
        "id": "3XRfV_Qdl-bn",
        "outputId": "fbb427a5-898b-4b05-df67-abe39de69383"
      },
      "outputs": [
        {
          "output_type": "execute_result",
          "data": {
            "text/plain": [
              "array([0., 2., 2., 5., 3., 2., 4., 3.])"
            ]
          },
          "metadata": {},
          "execution_count": 14
        }
      ],
      "source": [
        "# 1,2,4a,4b,4c,5 to integer \n",
        "\n",
        "y=to_categoricalmatrix(df) # df causing error so providing  df[0] | we can also use df1\n",
        "y[:8] "
      ]
    },
    {
      "cell_type": "code",
      "execution_count": null,
      "metadata": {
        "colab": {
          "base_uri": "https://localhost:8080/"
        },
        "id": "1Fu2vLAAnlJZ",
        "outputId": "cfad5f16-4f02-4434-cd9c-18f36f88f009"
      },
      "outputs": [
        {
          "output_type": "execute_result",
          "data": {
            "text/plain": [
              "array([[1., 0., 0., 0., 0., 0.],\n",
              "       [0., 0., 1., 0., 0., 0.],\n",
              "       [0., 0., 1., 0., 0., 0.],\n",
              "       [0., 0., 0., 0., 0., 1.],\n",
              "       [0., 0., 0., 1., 0., 0.],\n",
              "       [0., 0., 1., 0., 0., 0.],\n",
              "       [0., 0., 0., 0., 1., 0.],\n",
              "       [0., 0., 0., 1., 0., 0.]], dtype=float32)"
            ]
          },
          "metadata": {},
          "execution_count": 15
        }
      ],
      "source": [
        "#  tf.keras.utils.to_categorical  : Converts a class vector (integers) to binary class matrix.\n",
        "# Each image corrosponds to vector of size 6\n",
        "\n",
        "y=tf.keras.utils.to_categorical(y, dtype='float32')\n",
        "y[:8] "
      ]
    },
    {
      "cell_type": "markdown",
      "metadata": {
        "id": "xBizsYXjnsUh"
      },
      "source": [
        "Read Documnetation: https://www.tensorflow.org/api_docs/python/tf/keras/utils/to_categorical"
      ]
    },
    {
      "cell_type": "markdown",
      "metadata": {
        "id": "ROGFe64xoAB4"
      },
      "source": [
        "## Before Training Our Model we also need to normalize to the images :"
      ]
    },
    {
      "cell_type": "code",
      "execution_count": null,
      "metadata": {
        "colab": {
          "base_uri": "https://localhost:8080/"
        },
        "id": "46PoNxonoBhI",
        "outputId": "d9f3adba-1b9a-4d68-8a92-20fd27ef371e"
      },
      "outputs": [
        {
          "output_type": "execute_result",
          "data": {
            "text/plain": [
              "array([[[[0.        ],\n",
              "         [0.        ],\n",
              "         [0.        ],\n",
              "         ...,\n",
              "         [0.        ],\n",
              "         [0.        ],\n",
              "         [0.        ]],\n",
              "\n",
              "        [[0.        ],\n",
              "         [0.        ],\n",
              "         [0.        ],\n",
              "         ...,\n",
              "         [0.        ],\n",
              "         [0.        ],\n",
              "         [0.        ]],\n",
              "\n",
              "        [[0.        ],\n",
              "         [0.        ],\n",
              "         [0.        ],\n",
              "         ...,\n",
              "         [0.        ],\n",
              "         [0.        ],\n",
              "         [0.        ]],\n",
              "\n",
              "        ...,\n",
              "\n",
              "        [[0.08669087],\n",
              "         [0.08138052],\n",
              "         [0.09143508],\n",
              "         ...,\n",
              "         [0.07528018],\n",
              "         [0.10580184],\n",
              "         [0.10338718]],\n",
              "\n",
              "        [[0.09409396],\n",
              "         [0.11260125],\n",
              "         [0.1153701 ],\n",
              "         ...,\n",
              "         [0.09481132],\n",
              "         [0.07504234],\n",
              "         [0.07055338]],\n",
              "\n",
              "        [[0.09266245],\n",
              "         [0.09153491],\n",
              "         [0.10222842],\n",
              "         ...,\n",
              "         [0.07456926],\n",
              "         [0.08135484],\n",
              "         [0.09945331]]],\n",
              "\n",
              "\n",
              "       [[[0.        ],\n",
              "         [0.        ],\n",
              "         [0.        ],\n",
              "         ...,\n",
              "         [0.        ],\n",
              "         [0.        ],\n",
              "         [0.        ]],\n",
              "\n",
              "        [[0.        ],\n",
              "         [0.        ],\n",
              "         [0.        ],\n",
              "         ...,\n",
              "         [0.        ],\n",
              "         [0.        ],\n",
              "         [0.        ]],\n",
              "\n",
              "        [[0.        ],\n",
              "         [0.        ],\n",
              "         [0.        ],\n",
              "         ...,\n",
              "         [0.        ],\n",
              "         [0.        ],\n",
              "         [0.        ]],\n",
              "\n",
              "        ...,\n",
              "\n",
              "        [[0.11685374],\n",
              "         [0.11446983],\n",
              "         [0.13106534],\n",
              "         ...,\n",
              "         [0.21800852],\n",
              "         [0.20857324],\n",
              "         [0.19654012]],\n",
              "\n",
              "        [[0.10500808],\n",
              "         [0.12152464],\n",
              "         [0.1416568 ],\n",
              "         ...,\n",
              "         [0.21203996],\n",
              "         [0.17595914],\n",
              "         [0.1495485 ]],\n",
              "\n",
              "        [[0.10808796],\n",
              "         [0.12453026],\n",
              "         [0.13633007],\n",
              "         ...,\n",
              "         [0.18869464],\n",
              "         [0.19745587],\n",
              "         [0.17882177]]],\n",
              "\n",
              "\n",
              "       [[[0.        ],\n",
              "         [0.        ],\n",
              "         [0.        ],\n",
              "         ...,\n",
              "         [0.        ],\n",
              "         [0.        ],\n",
              "         [0.        ]],\n",
              "\n",
              "        [[0.        ],\n",
              "         [0.        ],\n",
              "         [0.        ],\n",
              "         ...,\n",
              "         [0.        ],\n",
              "         [0.        ],\n",
              "         [0.        ]],\n",
              "\n",
              "        [[0.        ],\n",
              "         [0.        ],\n",
              "         [0.        ],\n",
              "         ...,\n",
              "         [0.        ],\n",
              "         [0.        ],\n",
              "         [0.        ]],\n",
              "\n",
              "        ...,\n",
              "\n",
              "        [[0.5528276 ],\n",
              "         [0.5352067 ],\n",
              "         [0.5143458 ],\n",
              "         ...,\n",
              "         [0.11864876],\n",
              "         [0.09640986],\n",
              "         [0.06998567]],\n",
              "\n",
              "        [[0.60576123],\n",
              "         [0.5565147 ],\n",
              "         [0.5179801 ],\n",
              "         ...,\n",
              "         [0.09869844],\n",
              "         [0.08660597],\n",
              "         [0.09348814]],\n",
              "\n",
              "        [[0.5739117 ],\n",
              "         [0.54663825],\n",
              "         [0.52837557],\n",
              "         ...,\n",
              "         [0.11862564],\n",
              "         [0.108138  ],\n",
              "         [0.11058018]]]], dtype=float32)"
            ]
          },
          "metadata": {},
          "execution_count": 16
        }
      ],
      "source": [
        "def normalize(data):\n",
        "  for i in range(len(data)):\n",
        "    data[i,:,:,:]=data[i,:,:,:]*(1/np.max(data[i,:,:,:]))\n",
        "  return np.float32(data)\n",
        "  \n",
        "# we need noormalize to images\n",
        "X=normalize(data)\n",
        "X[300:303]"
      ]
    },
    {
      "cell_type": "markdown",
      "metadata": {
        "id": "cuzu_YGqoN-w"
      },
      "source": [
        "### Let’s see , random examples from X :"
      ]
    },
    {
      "cell_type": "code",
      "execution_count": null,
      "metadata": {
        "colab": {
          "base_uri": "https://localhost:8080/",
          "height": 385
        },
        "id": "0hNfAQBWoJxB",
        "outputId": "b8d2d77d-302d-42df-af5d-0e7d3a67b5dd"
      },
      "outputs": [
        {
          "output_type": "execute_result",
          "data": {
            "text/plain": [
              "(-0.5, 255.5, 255.5, -0.5)"
            ]
          },
          "metadata": {},
          "execution_count": 17
        },
        {
          "output_type": "display_data",
          "data": {
            "text/plain": [
              "<Figure size 600x400 with 1 Axes>"
            ],
            "image/png": "[encoded data removed]"
          },
          "metadata": {}
        }
      ],
      "source": [
        "import random\n",
        "random_number= random.randint(0,len(df[\"Tirads\"]))    #to seek random value from trids category\n",
        "\n",
        "plt.figure(figsize= (6,4))\n",
        "\n",
        "Im_title = \"Classification:\"+str(df[\"Tirads\"][random_number])\n",
        "plt.title(Im_title, fontsize=14)\n",
        "plt.imshow(X[random_number,:,:,0], cmap=\"gray\")\n",
        "\n",
        "plt.axis(\"off\")"
      ]
    },
    {
      "cell_type": "markdown",
      "metadata": {
        "id": "CGiqwWjHoY3T"
      },
      "source": [
        "#  Train Test and Validation split"
      ]
    },
    {
      "cell_type": "code",
      "execution_count": null,
      "metadata": {
        "colab": {
          "base_uri": "https://localhost:8080/"
        },
        "id": "gti1b58DoUm5",
        "outputId": "94d09254-996b-4ef0-fe9c-31210fe9e40d"
      },
      "outputs": [
        {
          "output_type": "stream",
          "name": "stdout",
          "text": [
            "(347, 6)\n"
          ]
        },
        {
          "output_type": "execute_result",
          "data": {
            "text/plain": [
              "(347, 256, 256, 1)"
            ]
          },
          "metadata": {},
          "execution_count": 18
        }
      ],
      "source": [
        "print(y.shape)\n",
        "data.shape"
      ]
    },
    {
      "cell_type": "code",
      "execution_count": null,
      "metadata": {
        "id": "mquhvUhBog9b"
      },
      "outputs": [],
      "source": [
        "X_train = np.copy(X[:300,:,:,:])\n",
        "X_test = np.copy(X[313:,:,:,:])\n",
        "X_val = np.copy(X[300:313,:,:,:])\n",
        "\n",
        "\n",
        "y_train = np.copy(y[:300,:])\n",
        "y_test = np.copy(y[313:,:])\n",
        "y_val = np.copy(y[300:313,:])"
      ]
    },
    {
      "cell_type": "markdown",
      "metadata": {
        "id": "U3RYQulKoufG"
      },
      "source": [
        "#  Pre-processing: Data Augmentation:\n",
        "- Pre-processing is the initial stage in refining image data, such as removing distortion, so that it may be utilized to process data more effectively. We apply many methods of pre-processing in this study, including augmentation, which tries to avoid overfitting so that even if the device encounters a difficulty with micro variations, the software can still make accurate predictions.\n",
        "\n",
        "- So ,The augmentation used is a random rotation distance of 20, random zooming area in the range of 0.2, a random contrast in the range of 0.1, and, a random horizontal flip."
      ]
    },
    {
      "cell_type": "code",
      "execution_count": null,
      "metadata": {
        "id": "SauXalyWopMd"
      },
      "outputs": [],
      "source": [
        "#Data Augmention for to prevent Overfitting and to improve accuracy\n",
        "\n",
        "from tensorflow.keras import layers\n",
        "\n",
        "data_augmentation1 = tf.keras.Sequential([\n",
        " layers.experimental.preprocessing.RandomFlip(\"horizontal\"),\n",
        " layers.experimental.preprocessing.RandomZoom(height_factor=(-0.2, 0.2),fill_mode=\"constant\"),\n",
        " layers.experimental.preprocessing.RandomRotation(factor=(-0.2, 0.2),fill_mode=\"constant\"),\n",
        " tf.keras.layers.experimental.preprocessing.RandomContrast(0.1)])\n",
        "\n",
        "X_train1=data_augmentation1(X_train)\n",
        "y_train1=np.copy(y_train)\n",
        "\n",
        "\n",
        "i=1\n",
        "\n",
        "#22\n",
        "while(i<22):\n",
        "  X_aug=data_augmentation1(X)\n",
        "  X_train1=np.concatenate((X_train1,X_aug),axis=0)\n",
        "  y_aug=np.copy(y)\n",
        "  y_train1=np.concatenate((y_train1,y_aug))\n",
        "\n",
        "  #20\n",
        "  if i == 20:\n",
        "    break\n",
        "  i += 1"
      ]
    },
    {
      "cell_type": "code",
      "execution_count": null,
      "metadata": {
        "colab": {
          "base_uri": "https://localhost:8080/"
        },
        "id": "9k29P5hGo394",
        "outputId": "13b75730-ebb6-4d58-e18d-60c6e7ec554f"
      },
      "outputs": [
        {
          "output_type": "execute_result",
          "data": {
            "text/plain": [
              "(300, 256, 256, 1)"
            ]
          },
          "metadata": {},
          "execution_count": 21
        }
      ],
      "source": [
        "X_train.shape"
      ]
    },
    {
      "cell_type": "code",
      "execution_count": null,
      "metadata": {
        "colab": {
          "base_uri": "https://localhost:8080/"
        },
        "id": "N9xc8sEco6pS",
        "outputId": "08cdd4b4-0dae-461c-f388-19e713483146"
      },
      "outputs": [
        {
          "output_type": "execute_result",
          "data": {
            "text/plain": [
              "(7240, 256, 256, 1)"
            ]
          },
          "metadata": {},
          "execution_count": 22
        }
      ],
      "source": [
        "X_train1.shape"
      ]
    },
    {
      "cell_type": "markdown",
      "metadata": {
        "id": "LcE7mjK9pBCK"
      },
      "source": [
        "# Model Creating\n",
        "\n",
        "- During training, the input to our VGG-19 is a fixed-size 256 × 256 gray scale image. The image is passed through a stack of convolutional (conv.) layers, where we use filters with a very small receptive field: 3 × 3 .The padding is same for 3 × 3 convolution layers.Max-pooling is performed over a 2 × 2 pixel window, with stride 2. A stack of convolutional layers is followed by three Fully-Connected (FC) layers: the first two have 1024 channels each.The final layer is the soft-max layer.. All hidden layers are equipped with the rectification (ReLU (Krizhevsky et al., 2012)) non-linearity."
      ]
    },
    {
      "cell_type": "code",
      "execution_count": null,
      "metadata": {
        "id": "mqOB3L8To8g9"
      },
      "outputs": [],
      "source": [
        "def VGG19(input_shape,filters):\n",
        "    inputs=tf.keras.layers.Input(shape=input_shape)\n",
        "    \n",
        "    x = tf.keras.layers.Conv2D(filters//16,(3,3), activation = 'relu', padding = 'same', kernel_initializer = 'he_normal')(inputs)\n",
        "    x= tf.keras.layers.Dropout(0.1)(x)\n",
        "    x = tf.keras.layers.Conv2D(filters//16,(3,3), activation = 'relu', padding = 'same', kernel_initializer = 'he_normal')(x)\n",
        "    x=tf.keras.layers.BatchNormalization()(x)\n",
        "\n",
        "    x = tf.keras.layers.MaxPooling2D(pool_size=(2, 2))(x)\n",
        "    x = tf.keras.layers.Conv2D(filters//8,(3,3), activation = 'relu', padding = 'same', kernel_initializer = 'he_normal')(x)\n",
        "    x=tf.keras.layers.Dropout(0.2)(x)\n",
        "    x = tf.keras.layers.Conv2D(filters//8,(3,3), activation = 'relu', padding = 'same', kernel_initializer = 'he_normal')(x)\n",
        "    x=tf.keras.layers.BatchNormalization()(x)\n",
        "    \n",
        "    x = tf.keras.layers.MaxPooling2D(pool_size=(2, 2))(x)\n",
        "    x = tf.keras.layers.Conv2D(filters//4,(3,3), activation = 'relu', padding = 'same', kernel_initializer = 'he_normal')(x)\n",
        "    x=tf.keras.layers.Dropout(0.3)(x)\n",
        "    x = tf.keras.layers.Conv2D(filters//4,(3,3), activation = 'relu', padding = 'same', kernel_initializer = 'he_normal')(x)\n",
        "    x=tf.keras.layers.BatchNormalization()(x)\n",
        "    x = tf.keras.layers.Conv2D(filters//4,(3,3), activation = 'relu', padding = 'same', kernel_initializer = 'he_normal')(x)\n",
        "    x=tf.keras.layers.BatchNormalization()(x)\n",
        "\n",
        "    x = tf.keras.layers.MaxPooling2D(pool_size=(2, 2))(x)\n",
        "    x = tf.keras.layers.Conv2D(filters//2,(3,3), activation = 'relu', padding = 'same', kernel_initializer = 'he_normal')(x)\n",
        "    x=tf.keras.layers.Dropout(0.4)(x)\n",
        "    x = tf.keras.layers.Conv2D(filters//2,(3,3), activation = 'relu', padding = 'same', kernel_initializer = 'he_normal')(x)\n",
        "    x=tf.keras.layers.BatchNormalization()(x)\n",
        "    x = tf.keras.layers.Conv2D(filters//2,(3,3), activation = 'relu', padding = 'same', kernel_initializer = 'he_normal')(x)\n",
        "    x=tf.keras.layers.BatchNormalization()(x)\n",
        "\n",
        "    x = tf.keras.layers.MaxPooling2D(pool_size=(2, 2))(x)\n",
        "    x = tf.keras.layers.Conv2D(filters,(3,3),activation = 'relu', padding = 'same', kernel_initializer = 'he_normal')(x)\n",
        "    x=tf.keras.layers.Dropout(0.5)(x)\n",
        "    x = tf.keras.layers.Conv2D(filters,(3,3), activation = 'relu', padding = 'same', kernel_initializer = 'he_normal')(x)\n",
        "    x=tf.keras.layers.BatchNormalization()(x)\n",
        "    last = tf.keras.layers.Conv2D(filters,(3,3), activation = 'relu', padding = 'same', kernel_initializer = 'he_normal',name='top_conv')(x)\n",
        "    \n",
        "    model=tf.keras.Model(inputs,last,name=\"VGG19\")\n",
        "    return model"
      ]
    },
    {
      "cell_type": "code",
      "execution_count": null,
      "metadata": {
        "id": "dCgkUaATpHnh"
      },
      "outputs": [],
      "source": [
        "base_model=VGG19(input_shape=(256,256,1),filters=512)\n",
        "x = base_model.output\n",
        "f=tf.keras.layers.Flatten(name=\"flatten\")(x)\n",
        "\n",
        "#To prevent overfitting and unbalancing , used regularizer\n",
        "\n",
        "d2=tf.keras.layers.Dense(1024,activation=\"relu\",kernel_regularizer=tf.keras.regularizers.l1_l2(0.00001))(f)\n",
        "dp9=tf.keras.layers.Dropout(0.5)(d2)\n",
        "d3=tf.keras.layers.Dense(1024,activation=\"relu\")(f)\n",
        "dp10=tf.keras.layers.Dropout(0.5)(d2)\n",
        "\n",
        "final=tf.keras.layers.Dense(6,activation=\"softmax\")(dp10)\n",
        "model = tf.keras.Model( inputs =[ base_model.input], outputs = final)"
      ]
    },
    {
      "cell_type": "code",
      "execution_count": null,
      "metadata": {
        "colab": {
          "base_uri": "https://localhost:8080/"
        },
        "id": "K6IcmaLzpMTK",
        "outputId": "eff06631-41a5-431a-fc15-23a5c38a6b8d"
      },
      "outputs": [
        {
          "output_type": "stream",
          "name": "stdout",
          "text": [
            "Model: \"model\"\n",
            "_________________________________________________________________\n",
            " Layer (type)                Output Shape              Param #   \n",
            "=================================================================\n",
            " input_1 (InputLayer)        [(None, 256, 256, 1)]     0         \n",
            "                                                                 \n",
            " conv2d (Conv2D)             (None, 256, 256, 32)      320       \n",
            "                                                                 \n",
            " dropout (Dropout)           (None, 256, 256, 32)      0         \n",
            "                                                                 \n",
            " conv2d_1 (Conv2D)           (None, 256, 256, 32)      9248      \n",
            "                                                                 \n",
            " batch_normalization (BatchN  (None, 256, 256, 32)     128       \n",
            " ormalization)                                                   \n",
            "                                                                 \n",
            " max_pooling2d (MaxPooling2D  (None, 128, 128, 32)     0         \n",
            " )                                                               \n",
            "                                                                 \n",
            " conv2d_2 (Conv2D)           (None, 128, 128, 64)      18496     \n",
            "                                                                 \n",
            " dropout_1 (Dropout)         (None, 128, 128, 64)      0         \n",
            "                                                                 \n",
            " conv2d_3 (Conv2D)           (None, 128, 128, 64)      36928     \n",
            "                                                                 \n",
            " batch_normalization_1 (Batc  (None, 128, 128, 64)     256       \n",
            " hNormalization)                                                 \n",
            "                                                                 \n",
            " max_pooling2d_1 (MaxPooling  (None, 64, 64, 64)       0         \n",
            " 2D)                                                             \n",
            "                                                                 \n",
            " conv2d_4 (Conv2D)           (None, 64, 64, 128)       73856     \n",
            "                                                                 \n",
            " dropout_2 (Dropout)         (None, 64, 64, 128)       0         \n",
            "                                                                 \n",
            " conv2d_5 (Conv2D)           (None, 64, 64, 128)       147584    \n",
            "                                                                 \n",
            " batch_normalization_2 (Batc  (None, 64, 64, 128)      512       \n",
            " hNormalization)                                                 \n",
            "                                                                 \n",
            " conv2d_6 (Conv2D)           (None, 64, 64, 128)       147584    \n",
            "                                                                 \n",
            " batch_normalization_3 (Batc  (None, 64, 64, 128)      512       \n",
            " hNormalization)                                                 \n",
            "                                                                 \n",
            " max_pooling2d_2 (MaxPooling  (None, 32, 32, 128)      0         \n",
            " 2D)                                                             \n",
            "                                                                 \n",
            " conv2d_7 (Conv2D)           (None, 32, 32, 256)       295168    \n",
            "                                                                 \n",
            " dropout_3 (Dropout)         (None, 32, 32, 256)       0         \n",
            "                                                                 \n",
            " conv2d_8 (Conv2D)           (None, 32, 32, 256)       590080    \n",
            "                                                                 \n",
            " batch_normalization_4 (Batc  (None, 32, 32, 256)      1024      \n",
            " hNormalization)                                                 \n",
            "                                                                 \n",
            " conv2d_9 (Conv2D)           (None, 32, 32, 256)       590080    \n",
            "                                                                 \n",
            " batch_normalization_5 (Batc  (None, 32, 32, 256)      1024      \n",
            " hNormalization)                                                 \n",
            "                                                                 \n",
            " max_pooling2d_3 (MaxPooling  (None, 16, 16, 256)      0         \n",
            " 2D)                                                             \n",
            "                                                                 \n",
            " conv2d_10 (Conv2D)          (None, 16, 16, 512)       1180160   \n",
            "                                                                 \n",
            " dropout_4 (Dropout)         (None, 16, 16, 512)       0         \n",
            "                                                                 \n",
            " conv2d_11 (Conv2D)          (None, 16, 16, 512)       2359808   \n",
            "                                                                 \n",
            " batch_normalization_6 (Batc  (None, 16, 16, 512)      2048      \n",
            " hNormalization)                                                 \n",
            "                                                                 \n",
            " top_conv (Conv2D)           (None, 16, 16, 512)       2359808   \n",
            "                                                                 \n",
            " flatten (Flatten)           (None, 131072)            0         \n",
            "                                                                 \n",
            " dense (Dense)               (None, 1024)              134218752 \n",
            "                                                                 \n",
            " dropout_6 (Dropout)         (None, 1024)              0         \n",
            "                                                                 \n",
            " dense_2 (Dense)             (None, 6)                 6150      \n",
            "                                                                 \n",
            "=================================================================\n",
            "Total params: 142,039,526\n",
            "Trainable params: 142,036,774\n",
            "Non-trainable params: 2,752\n",
            "_________________________________________________________________\n"
          ]
        }
      ],
      "source": [
        "model.summary()"
      ]
    },
    {
      "cell_type": "code",
      "execution_count": null,
      "metadata": {
        "colab": {
          "base_uri": "https://localhost:8080/"
        },
        "id": "MMzO7-6JpO8T",
        "outputId": "91041749-d92a-4f2d-a551-6a0044faa10e"
      },
      "outputs": [
        {
          "output_type": "stream",
          "name": "stdout",
          "text": [
            "Model: \"VGG19\"\n",
            "_________________________________________________________________\n",
            " Layer (type)                Output Shape              Param #   \n",
            "=================================================================\n",
            " input_1 (InputLayer)        [(None, 256, 256, 1)]     0         \n",
            "                                                                 \n",
            " conv2d (Conv2D)             (None, 256, 256, 32)      320       \n",
            "                                                                 \n",
            " dropout (Dropout)           (None, 256, 256, 32)      0         \n",
            "                                                                 \n",
            " conv2d_1 (Conv2D)           (None, 256, 256, 32)      9248      \n",
            "                                                                 \n",
            " batch_normalization (BatchN  (None, 256, 256, 32)     128       \n",
            " ormalization)                                                   \n",
            "                                                                 \n",
            " max_pooling2d (MaxPooling2D  (None, 128, 128, 32)     0         \n",
            " )                                                               \n",
            "                                                                 \n",
            " conv2d_2 (Conv2D)           (None, 128, 128, 64)      18496     \n",
            "                                                                 \n",
            " dropout_1 (Dropout)         (None, 128, 128, 64)      0         \n",
            "                                                                 \n",
            " conv2d_3 (Conv2D)           (None, 128, 128, 64)      36928     \n",
            "                                                                 \n",
            " batch_normalization_1 (Batc  (None, 128, 128, 64)     256       \n",
            " hNormalization)                                                 \n",
            "                                                                 \n",
            " max_pooling2d_1 (MaxPooling  (None, 64, 64, 64)       0         \n",
            " 2D)                                                             \n",
            "                                                                 \n",
            " conv2d_4 (Conv2D)           (None, 64, 64, 128)       73856     \n",
            "                                                                 \n",
            " dropout_2 (Dropout)         (None, 64, 64, 128)       0         \n",
            "                                                                 \n",
            " conv2d_5 (Conv2D)           (None, 64, 64, 128)       147584    \n",
            "                                                                 \n",
            " batch_normalization_2 (Batc  (None, 64, 64, 128)      512       \n",
            " hNormalization)                                                 \n",
            "                                                                 \n",
            " conv2d_6 (Conv2D)           (None, 64, 64, 128)       147584    \n",
            "                                                                 \n",
            " batch_normalization_3 (Batc  (None, 64, 64, 128)      512       \n",
            " hNormalization)                                                 \n",
            "                                                                 \n",
            " max_pooling2d_2 (MaxPooling  (None, 32, 32, 128)      0         \n",
            " 2D)                                                             \n",
            "                                                                 \n",
            " conv2d_7 (Conv2D)           (None, 32, 32, 256)       295168    \n",
            "                                                                 \n",
            " dropout_3 (Dropout)         (None, 32, 32, 256)       0         \n",
            "                                                                 \n",
            " conv2d_8 (Conv2D)           (None, 32, 32, 256)       590080    \n",
            "                                                                 \n",
            " batch_normalization_4 (Batc  (None, 32, 32, 256)      1024      \n",
            " hNormalization)                                                 \n",
            "                                                                 \n",
            " conv2d_9 (Conv2D)           (None, 32, 32, 256)       590080    \n",
            "                                                                 \n",
            " batch_normalization_5 (Batc  (None, 32, 32, 256)      1024      \n",
            " hNormalization)                                                 \n",
            "                                                                 \n",
            " max_pooling2d_3 (MaxPooling  (None, 16, 16, 256)      0         \n",
            " 2D)                                                             \n",
            "                                                                 \n",
            " conv2d_10 (Conv2D)          (None, 16, 16, 512)       1180160   \n",
            "                                                                 \n",
            " dropout_4 (Dropout)         (None, 16, 16, 512)       0         \n",
            "                                                                 \n",
            " conv2d_11 (Conv2D)          (None, 16, 16, 512)       2359808   \n",
            "                                                                 \n",
            " batch_normalization_6 (Batc  (None, 16, 16, 512)      2048      \n",
            " hNormalization)                                                 \n",
            "                                                                 \n",
            " top_conv (Conv2D)           (None, 16, 16, 512)       2359808   \n",
            "                                                                 \n",
            "=================================================================\n",
            "Total params: 7,814,624\n",
            "Trainable params: 7,811,872\n",
            "Non-trainable params: 2,752\n",
            "_________________________________________________________________\n"
          ]
        }
      ],
      "source": [
        "base_model.summary()"
      ]
    },
    {
      "cell_type": "code",
      "execution_count": null,
      "metadata": {
        "colab": {
          "base_uri": "https://localhost:8080/"
        },
        "id": "fgyTmlPCpSrX",
        "outputId": "d7a238ab-d5db-42e2-db66-13a05bcf997d"
      },
      "outputs": [
        {
          "output_type": "stream",
          "name": "stdout",
          "text": [
            "Epoch 1/35\n",
            "1810/1810 [==============================] - 235s 120ms/step - loss: 10.3177 - auc: 0.5995 - val_loss: 4.7546 - val_auc: 0.3669 - lr: 1.0000e-04\n",
            "Epoch 2/35\n",
            "1810/1810 [==============================] - 216s 119ms/step - loss: 3.3256 - auc: 0.6122 - val_loss: 2.6181 - val_auc: 0.3864 - lr: 1.0000e-04\n",
            "Epoch 3/35\n",
            "1810/1810 [==============================] - 216s 119ms/step - loss: 2.2719 - auc: 0.6551 - val_loss: 6.7216 - val_auc: 0.4337 - lr: 1.0000e-04\n",
            "Epoch 4/35\n",
            "1810/1810 [==============================] - 216s 119ms/step - loss: 2.1626 - auc: 0.6788 - val_loss: 3.1076 - val_auc: 0.3213 - lr: 1.0000e-04\n",
            "Epoch 5/35\n",
            "1810/1810 [==============================] - 216s 119ms/step - loss: 2.0183 - auc: 0.7108 - val_loss: 3.2004 - val_auc: 0.3911 - lr: 1.0000e-04\n",
            "Epoch 6/35\n",
            "1810/1810 [==============================] - 215s 119ms/step - loss: 1.8575 - auc: 0.7518 - val_loss: 2.6065 - val_auc: 0.5249 - lr: 1.0000e-04\n",
            "Epoch 7/35\n",
            "1810/1810 [==============================] - 215s 119ms/step - loss: 1.7659 - auc: 0.7910 - val_loss: 3.1176 - val_auc: 0.5805 - lr: 1.0000e-04\n",
            "Epoch 8/35\n",
            "1810/1810 [==============================] - 215s 119ms/step - loss: 1.7372 - auc: 0.8352 - val_loss: 3.6692 - val_auc: 0.5006 - lr: 1.0000e-04\n",
            "Epoch 9/35\n",
            "1810/1810 [==============================] - 214s 118ms/step - loss: 1.6225 - auc: 0.8831 - val_loss: 3.5408 - val_auc: 0.5160 - lr: 1.0000e-04\n",
            "Epoch 10/35\n",
            "1810/1810 [==============================] - 215s 119ms/step - loss: 1.5415 - auc: 0.9193 - val_loss: 3.5908 - val_auc: 0.5988 - lr: 1.0000e-04\n",
            "Epoch 11/35\n",
            "1810/1810 [==============================] - 214s 118ms/step - loss: 1.4332 - auc: 0.9459 - val_loss: 3.8313 - val_auc: 0.5787 - lr: 1.0000e-04\n",
            "Epoch 12/35\n",
            "1810/1810 [==============================] - 214s 118ms/step - loss: 1.3372 - auc: 0.9664 - val_loss: 4.3646 - val_auc: 0.6112 - lr: 1.0000e-04\n",
            "Epoch 13/35\n",
            "1810/1810 [==============================] - 215s 119ms/step - loss: 1.2694 - auc: 0.9760 - val_loss: 3.4639 - val_auc: 0.6000 - lr: 1.0000e-04\n",
            "Epoch 14/35\n",
            "1810/1810 [==============================] - 214s 118ms/step - loss: 1.2246 - auc: 0.9827 - val_loss: 3.0318 - val_auc: 0.7456 - lr: 1.0000e-04\n",
            "Epoch 15/35\n",
            "1810/1810 [==============================] - 214s 118ms/step - loss: 1.1848 - auc: 0.9860 - val_loss: 3.5573 - val_auc: 0.6698 - lr: 1.0000e-04\n",
            "Epoch 16/35\n",
            "1810/1810 [==============================] - 214s 118ms/step - loss: 0.9606 - auc: 0.9970 - val_loss: 4.2129 - val_auc: 0.6834 - lr: 1.0000e-05\n",
            "Epoch 17/35\n",
            "1810/1810 [==============================] - 214s 118ms/step - loss: 0.8080 - auc: 0.9985 - val_loss: 3.9096 - val_auc: 0.6817 - lr: 1.0000e-05\n",
            "Epoch 18/35\n",
            "1810/1810 [==============================] - 214s 118ms/step - loss: 0.7021 - auc: 0.9992 - val_loss: 3.7604 - val_auc: 0.6781 - lr: 1.0000e-05\n",
            "Epoch 19/35\n",
            "1810/1810 [==============================] - 214s 118ms/step - loss: 0.6245 - auc: 0.9996 - val_loss: 3.7903 - val_auc: 0.6680 - lr: 1.0000e-05\n",
            "Epoch 20/35\n",
            "1810/1810 [==============================] - 214s 118ms/step - loss: 0.5768 - auc: 0.9995 - val_loss: 3.7753 - val_auc: 0.6456 - lr: 1.0000e-05\n",
            "Epoch 21/35\n",
            "1810/1810 [==============================] - 214s 118ms/step - loss: 0.5364 - auc: 0.9997 - val_loss: 3.8462 - val_auc: 0.6604 - lr: 1.0000e-05\n",
            "Epoch 22/35\n",
            "1810/1810 [==============================] - 214s 118ms/step - loss: 0.4963 - auc: 0.9998 - val_loss: 3.4808 - val_auc: 0.6917 - lr: 1.0000e-05\n",
            "Epoch 23/35\n",
            "1810/1810 [==============================] - 214s 118ms/step - loss: 0.4653 - auc: 0.9998 - val_loss: 3.2354 - val_auc: 0.7178 - lr: 1.0000e-05\n",
            "Epoch 24/35\n",
            "1810/1810 [==============================] - 214s 118ms/step - loss: 0.4343 - auc: 0.9998 - val_loss: 3.4858 - val_auc: 0.7272 - lr: 1.0000e-05\n",
            "Epoch 25/35\n",
            "1810/1810 [==============================] - 214s 118ms/step - loss: 0.4082 - auc: 0.9999 - val_loss: 3.4709 - val_auc: 0.7402 - lr: 1.0000e-05\n",
            "Epoch 26/35\n",
            "1810/1810 [==============================] - 214s 118ms/step - loss: 0.3898 - auc: 0.9998 - val_loss: 3.1861 - val_auc: 0.7249 - lr: 1.0000e-05\n",
            "Epoch 27/35\n",
            "1810/1810 [==============================] - 214s 118ms/step - loss: 0.3696 - auc: 0.9999 - val_loss: 3.4034 - val_auc: 0.7006 - lr: 1.0000e-05\n",
            "Epoch 28/35\n",
            "1810/1810 [==============================] - 214s 118ms/step - loss: 0.3487 - auc: 0.9999 - val_loss: 3.3827 - val_auc: 0.7136 - lr: 1.0000e-05\n",
            "Epoch 29/35\n",
            "1810/1810 [==============================] - 213s 118ms/step - loss: 0.3304 - auc: 0.9999 - val_loss: 3.4313 - val_auc: 0.7059 - lr: 1.0000e-05\n",
            "Epoch 30/35\n",
            "1810/1810 [==============================] - 214s 118ms/step - loss: 0.3232 - auc: 0.9998 - val_loss: 3.3172 - val_auc: 0.6858 - lr: 1.0000e-05\n",
            "Epoch 31/35\n",
            "1810/1810 [==============================] - 214s 118ms/step - loss: 0.3034 - auc: 0.9999 - val_loss: 3.2085 - val_auc: 0.6988 - lr: 1.0000e-06\n",
            "Epoch 32/35\n",
            "1810/1810 [==============================] - 214s 118ms/step - loss: 0.2936 - auc: 1.0000 - val_loss: 3.3773 - val_auc: 0.7041 - lr: 1.0000e-06\n",
            "Epoch 33/35\n",
            "1810/1810 [==============================] - 214s 118ms/step - loss: 0.2913 - auc: 0.9999 - val_loss: 3.4035 - val_auc: 0.6994 - lr: 1.0000e-06\n",
            "Epoch 34/35\n",
            "1810/1810 [==============================] - 214s 118ms/step - loss: 0.2787 - auc: 1.0000 - val_loss: 3.4460 - val_auc: 0.7101 - lr: 1.0000e-06\n",
            "Epoch 35/35\n",
            "1810/1810 [==============================] - 214s 118ms/step - loss: 0.2753 - auc: 1.0000 - val_loss: 3.4141 - val_auc: 0.7089 - lr: 1.0000e-06\n"
          ]
        }
      ],
      "source": [
        "#Metrics | loss  | model.fit()\n",
        "metrics = tf.keras.metrics.AUC(\n",
        "    num_thresholds=200, curve='ROC',\n",
        "    summation_method='interpolation'\n",
        ")\n",
        "\n",
        "\n",
        "#categorical_crossentropy\n",
        "model.compile(optimizer=tf.keras.optimizers.Adam(learning_rate=0.0001),\n",
        "              loss=\"categorical_crossentropy\",\n",
        "              metrics=metrics)\n",
        "\n",
        "\n",
        "def lr_scheduler(epoch, lr):\n",
        "    decay_rate = 0.1\n",
        "    decay_step = 15\n",
        "    if epoch % decay_step == 0 and epoch:\n",
        "        return lr * decay_rate\n",
        "    return lr\n",
        "\n",
        "#after each 15 epochs , we want to decrease learning rate for converge to model\n",
        "lr_call = tf.keras.callbacks.LearningRateScheduler(lr_scheduler)\n",
        "epochs=35\n",
        "\n",
        "\n",
        "history=model.fit(x=[X_train1],y=[y_train1],batch_size=4,epochs=epochs,callbacks=[lr_call],validation_data=(X_val,y_val))"
      ]
    },
    {
      "cell_type": "code",
      "source": [
        "# Lets see our validation and training loss .\n",
        "\n",
        "plt.figure(figsize = (6,4))\n",
        "plt.title('Loss')\n",
        "plt.plot(history.history['loss'], label='train')\n",
        "plt.plot(history.history['val_loss'], label='test')\n",
        "plt.legend()"
      ],
      "metadata": {
        "colab": {
          "base_uri": "https://localhost:8080/",
          "height": 408
        },
        "id": "5Dgyy7Gk2pCd",
        "outputId": "db352e09-a7b1-4a1f-e06a-cc7ef8f0d24f"
      },
      "execution_count": null,
      "outputs": [
        {
          "output_type": "execute_result",
          "data": {
            "text/plain": [
              "<matplotlib.legend.Legend at 0x7f0400374f40>"
            ]
          },
          "metadata": {},
          "execution_count": 50
        },
        {
          "output_type": "display_data",
          "data": {
            "text/plain": [
              "<Figure size 600x400 with 1 Axes>"
            ],
            "image/png": "[encoded data removed]"
          },
          "metadata": {}
        }
      ]
    },
    {
      "cell_type": "code",
      "source": [
        "model.save('model_vgg19.h5')"
      ],
      "metadata": {
        "id": "qS1djaq46Vsh"
      },
      "execution_count": null,
      "outputs": []
    },
    {
      "cell_type": "code",
      "source": [
        "# load the saved model\n",
        "loaded_model = tf.keras.models.load_model('./saved_model')\n",
        "\n",
        "# use the loaded model to make predictions\n",
        "predictions = loaded_model.predict(X_test)\n",
        "predictions"
      ],
      "metadata": {
        "colab": {
          "base_uri": "https://localhost:8080/"
        },
        "id": "qHHsfVIr7EG-",
        "outputId": "014bc6d7-2814-4ea7-ceed-f60f863a7702"
      },
      "execution_count": null,
      "outputs": [
        {
          "output_type": "stream",
          "name": "stdout",
          "text": [
            "2/2 [==============================] - 0s 47ms/step\n"
          ]
        },
        {
          "output_type": "execute_result",
          "data": {
            "text/plain": [
              "array([[1.50670030e-05, 1.16788869e-05, 5.99030077e-01, 2.58493155e-01,\n",
              "        1.36870936e-01, 5.57904970e-03],\n",
              "       [9.98051167e-01, 4.39478055e-04, 5.50591976e-05, 1.15200912e-03,\n",
              "        2.74137972e-04, 2.82396813e-05],\n",
              "       [1.91934378e-05, 7.81696737e-02, 1.94994005e-04, 1.42348837e-03,\n",
              "        9.19942737e-01, 2.49924225e-04],\n",
              "       [1.15464311e-04, 3.56631754e-05, 5.49751706e-02, 6.83559597e-01,\n",
              "        2.43532792e-01, 1.77812874e-02],\n",
              "       [2.31338758e-03, 8.58097774e-05, 8.60151112e-01, 1.09719381e-01,\n",
              "        2.30482835e-02, 4.68206685e-03],\n",
              "       [8.22769721e-07, 1.33749074e-06, 9.59594607e-01, 3.88756692e-02,\n",
              "        4.03188373e-04, 1.12441601e-03],\n",
              "       [1.14488666e-05, 1.91838225e-08, 9.98960018e-01, 5.45184244e-04,\n",
              "        4.82354226e-04, 9.75827334e-07],\n",
              "       [1.83708209e-03, 4.95385565e-03, 3.15996468e-01, 4.24830794e-01,\n",
              "        1.50461167e-01, 1.01920649e-01],\n",
              "       [1.15802095e-06, 7.67123197e-07, 1.31293709e-04, 1.52581278e-02,\n",
              "        1.07640820e-03, 9.83532190e-01],\n",
              "       [1.38572095e-05, 9.57623243e-01, 3.22777370e-04, 4.53937682e-05,\n",
              "        4.10471968e-02, 9.47649649e-04],\n",
              "       [8.85585129e-01, 1.40536455e-02, 1.19819436e-02, 8.29673256e-04,\n",
              "        8.75486508e-02, 8.87570252e-07],\n",
              "       [6.70949399e-01, 1.12990045e-03, 3.24546099e-01, 2.31811418e-06,\n",
              "        3.35363694e-03, 1.86113448e-05],\n",
              "       [9.61684585e-02, 4.94098924e-02, 6.60285586e-04, 1.36639675e-04,\n",
              "        8.53620768e-01, 3.98686689e-06],\n",
              "       [1.43546075e-01, 7.87733938e-04, 4.42462534e-01, 2.65894309e-02,\n",
              "        3.85664403e-01, 9.49805195e-04],\n",
              "       [6.30823970e-02, 1.62361562e-02, 8.99097741e-01, 9.51462542e-04,\n",
              "        5.11989556e-03, 1.55123863e-02],\n",
              "       [3.26505397e-03, 1.38588031e-04, 3.70549053e-01, 1.88782290e-02,\n",
              "        5.97118020e-01, 1.00510530e-02],\n",
              "       [4.32235902e-05, 1.82509297e-07, 2.38811851e-01, 3.60283881e-01,\n",
              "        3.69298697e-01, 3.15621421e-02],\n",
              "       [7.74400076e-03, 5.49090318e-02, 3.41908075e-03, 1.02494482e-03,\n",
              "        9.32895005e-01, 7.85763223e-06],\n",
              "       [3.33145959e-04, 1.16023104e-04, 8.11453152e-04, 4.11981251e-03,\n",
              "        9.86182809e-01, 8.43672734e-03],\n",
              "       [9.26304702e-03, 2.16147155e-02, 9.20134544e-01, 2.32720990e-02,\n",
              "        1.46771437e-02, 1.10384561e-02],\n",
              "       [9.78903030e-04, 8.10972154e-02, 2.77086557e-03, 3.31715234e-02,\n",
              "        8.18112016e-01, 6.38694689e-02],\n",
              "       [1.26570172e-03, 3.95071474e-05, 4.16224837e-01, 1.00944899e-01,\n",
              "        4.80706364e-01, 8.18630098e-04],\n",
              "       [3.08758841e-04, 3.45456792e-05, 6.70006424e-02, 8.73927772e-02,\n",
              "        8.27286482e-01, 1.79767534e-02],\n",
              "       [1.84196094e-03, 3.13072705e-05, 2.06562839e-02, 2.49474142e-02,\n",
              "        9.50053453e-01, 2.46969005e-03],\n",
              "       [3.82788889e-02, 5.60020376e-03, 1.52431161e-03, 1.19511001e-02,\n",
              "        4.33769077e-01, 5.08876443e-01],\n",
              "       [4.99044312e-03, 2.61478901e-01, 2.75163084e-01, 3.28512877e-01,\n",
              "        5.04746623e-02, 7.93800056e-02],\n",
              "       [2.12582563e-05, 2.50032116e-07, 6.33571371e-02, 9.48461238e-04,\n",
              "        9.16942060e-01, 1.87308397e-02],\n",
              "       [2.96637475e-01, 6.01774501e-03, 1.43990619e-03, 3.80971562e-03,\n",
              "        6.05448365e-01, 8.66467804e-02],\n",
              "       [8.26291995e-08, 1.25298300e-07, 9.99164939e-01, 4.85751980e-06,\n",
              "        7.92906503e-04, 3.70203634e-05],\n",
              "       [2.84266891e-04, 3.65173182e-05, 9.60124433e-01, 4.74671833e-03,\n",
              "        2.87022106e-02, 6.10579178e-03],\n",
              "       [4.19919193e-01, 4.19175159e-03, 6.17610663e-02, 3.24523374e-02,\n",
              "        3.87978107e-01, 9.36975703e-02],\n",
              "       [2.38842058e-05, 8.38676715e-06, 1.72050204e-03, 3.08071845e-04,\n",
              "        9.96790111e-01, 1.14909478e-03],\n",
              "       [3.81211657e-03, 4.68387315e-03, 1.60913204e-03, 5.07545425e-04,\n",
              "        9.81410801e-01, 7.97653850e-03],\n",
              "       [1.18478522e-01, 3.12891486e-03, 4.17825021e-02, 7.83202797e-03,\n",
              "        6.35681152e-02, 7.65209973e-01]], dtype=float32)"
            ]
          },
          "metadata": {},
          "execution_count": 58
        }
      ]
    },
    {
      "cell_type": "markdown",
      "source": [],
      "metadata": {
        "id": "upiqyu6f9CwH"
      }
    },
    {
      "cell_type": "code",
      "source": [
        "import numpy as np\n",
        "y_pred = np.argmax(predictions, axis=1)\n",
        "y_pred"
      ],
      "metadata": {
        "colab": {
          "base_uri": "https://localhost:8080/"
        },
        "id": "UlZfYyfX7V7Q",
        "outputId": "a705d168-dfd7-4466-d2fd-279809ae79b4"
      },
      "execution_count": null,
      "outputs": [
        {
          "output_type": "execute_result",
          "data": {
            "text/plain": [
              "array([2, 0, 4, 3, 2, 2, 2, 3, 5, 1, 0, 0, 4, 2, 2, 4, 4, 4, 4, 2, 4, 4,\n",
              "       4, 4, 5, 3, 4, 4, 2, 2, 0, 4, 4, 5])"
            ]
          },
          "metadata": {},
          "execution_count": 60
        }
      ]
    },
    {
      "cell_type": "code",
      "source": [
        "model.evaluate(X_test,y_test)"
      ],
      "metadata": {
        "colab": {
          "base_uri": "https://localhost:8080/"
        },
        "id": "EiUQmBZk8tyD",
        "outputId": "6ebfed28-3218-41b0-bb39-8e2f6ff3ab7a"
      },
      "execution_count": null,
      "outputs": [
        {
          "output_type": "stream",
          "name": "stdout",
          "text": [
            "2/2 [==============================] - 0s 38ms/step - loss: 2.8466 - auc: 0.7537\n"
          ]
        },
        {
          "output_type": "execute_result",
          "data": {
            "text/plain": [
              "[2.846595287322998, 0.7537197470664978]"
            ]
          },
          "metadata": {},
          "execution_count": 62
        }
      ]
    },
    {
      "cell_type": "code",
      "source": [
        "from tensorflow import keras\n",
        "img_array=X_test[0,:,:,:]\n",
        "\n",
        "img_array=np.reshape(img_array,(1,256,256,1))\n",
        "preds = model.predict(img_array)\n",
        "last_conv_layer_name = \"top_conv\"\n",
        "classifier_layer_names = [\"flatten\"]   \n",
        "\n",
        "              \n",
        "# Generate class activation heatmap\n",
        "heatmap = make_gradcam_heatmap(\n",
        "    img_array, model, last_conv_layer_name, classifier_layer_names\n",
        ")\n",
        "img = keras.preprocessing.image.img_to_array(X_test[0,:,:,:])\n",
        "img"
      ],
      "metadata": {
        "colab": {
          "base_uri": "https://localhost:8080/"
        },
        "id": "SlPMbNj287X8",
        "outputId": "104f385c-4dc1-4d38-d535-b408f87ad210"
      },
      "execution_count": null,
      "outputs": [
        {
          "output_type": "stream",
          "name": "stdout",
          "text": [
            "1/1 [==============================] - 0s 48ms/step\n"
          ]
        },
        {
          "output_type": "execute_result",
          "data": {
            "text/plain": [
              "array([[[0.        ],\n",
              "        [0.        ],\n",
              "        [0.        ],\n",
              "        ...,\n",
              "        [0.        ],\n",
              "        [0.        ],\n",
              "        [0.        ]],\n",
              "\n",
              "       [[0.        ],\n",
              "        [0.        ],\n",
              "        [0.        ],\n",
              "        ...,\n",
              "        [0.        ],\n",
              "        [0.        ],\n",
              "        [0.        ]],\n",
              "\n",
              "       [[0.        ],\n",
              "        [0.        ],\n",
              "        [0.        ],\n",
              "        ...,\n",
              "        [0.        ],\n",
              "        [0.        ],\n",
              "        [0.        ]],\n",
              "\n",
              "       ...,\n",
              "\n",
              "       [[0.17893486],\n",
              "        [0.1730036 ],\n",
              "        [0.18282211],\n",
              "        ...,\n",
              "        [0.11155553],\n",
              "        [0.103765  ],\n",
              "        [0.09185795]],\n",
              "\n",
              "       [[0.16936955],\n",
              "        [0.19652928],\n",
              "        [0.21530469],\n",
              "        ...,\n",
              "        [0.06439782],\n",
              "        [0.07955465],\n",
              "        [0.07257421]],\n",
              "\n",
              "       [[0.12346689],\n",
              "        [0.15149866],\n",
              "        [0.20617886],\n",
              "        ...,\n",
              "        [0.07321745],\n",
              "        [0.07082736],\n",
              "        [0.06255702]]], dtype=float32)"
            ]
          },
          "metadata": {},
          "execution_count": 63
        }
      ]
    },
    {
      "cell_type": "code",
      "source": [
        "#Next ROC Curve :\n",
        "\n",
        "y_test=np.reshape(y_test,(34*6))\n",
        "predict=np.reshape(predict,(34*6))\n",
        "from sklearn.metrics import roc_curve\n",
        "from sklearn.metrics import roc_auc_score\n",
        "\n",
        "# keep probabilities for the positive outcome only\n",
        "ns_probs = [0 for _ in range(len(y_test))]\n",
        "\n",
        "\n",
        "# calculate scores\n",
        "ns_auc = roc_auc_score(y_test, ns_probs)\n",
        "lr_auc = roc_auc_score(y_test, predict)\n",
        "\n",
        "\n",
        "# summarize scores\n",
        "print('No Skill: ROC AUC=%.3f' % (ns_auc))\n",
        "print('Model: ROC AUC=%.3f' % (lr_auc))\n",
        "\n",
        "\n",
        "# calculate roc curves\n",
        "ns_fpr, ns_tpr, _ = roc_curve(y_test, ns_probs)\n",
        "lr_fpr, lr_tpr, _ = roc_curve(y_test, predict)\n",
        "\n",
        "\n",
        "# plot the roc curve for the model\n",
        "plt.figure(figsize = (8,6))\n",
        "plt.title(\"ROC Curve\",fontsize = 40)\n",
        "plt.plot(ns_fpr, ns_tpr,label='No Skill')\n",
        "plt.plot(lr_fpr, lr_tpr, label='Model')\n",
        "\n",
        "\n",
        "# axis labels\n",
        "plt.xlabel('False Positive Rate')\n",
        "plt.ylabel('True Positive Rate')\n",
        "plt.rcParams[\"font.size\"] = \"15\"\n",
        "\n",
        "# show the legend\n",
        "plt.legend()\n",
        "\n",
        "# show the plot\n",
        "plt.show()"
      ],
      "metadata": {
        "colab": {
          "base_uri": "https://localhost:8080/",
          "height": 643
        },
        "id": "gJyXM7Za9Q-h",
        "outputId": "aeefa200-c1a5-4781-9417-7140e59ac5da"
      },
      "execution_count": null,
      "outputs": [
        {
          "output_type": "stream",
          "name": "stdout",
          "text": [
            "No Skill: ROC AUC=0.500\n",
            "Model: ROC AUC=0.765\n"
          ]
        },
        {
          "output_type": "display_data",
          "data": {
            "text/plain": [
              "<Figure size 800x600 with 1 Axes>"
            ],
            "image/png": "[encoded data removed]"
          },
          "metadata": {}
        }
      ]
    }
  ],
  "metadata": {
    "accelerator": "GPU",
    "colab": {
      "provenance": [],
      "mount_file_id": "1cV4zifLjhKbdIYNgn__6ljvk791YAd_N",
      "authorship_tag": "ABX9TyObRu8JVYXezh+mbN2BP/ZK",
      "include_colab_link": true
    },
    "gpuClass": "standard",
    "kernelspec": {
      "display_name": "Python 3",
      "name": "python3"
    },
    "language_info": {
      "name": "python"
    }
  },
  "nbformat": 4,
  "nbformat_minor": 0
}